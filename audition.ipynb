{
 "cells": [
  {
   "cell_type": "markdown",
   "metadata": {
    "collapsed": true
   },
   "source": [
    "Welcome to your DataCamp project audition! This notebook must be filled out and vetted before a contract can be signed and you can start creating your project.\n",
    "\n",
    "The first step is forking the repository in which this notebook lives. After that, there are two parts to be completed in this notebook:\n",
    "\n",
    "- **Project information**:  The title of the project, a project description, etc.\n",
    "\n",
    "- **Project introduction**: The three first text and code cells that will form the introduction of your project.\n",
    "\n",
    "When complete, please email the link to your forked repo to projects@datacamp.com with the email subject line _DataCamp project audition_. If you have any questions, please reach out to projects@datacamp.com."
   ]
  },
  {
   "cell_type": "markdown",
   "metadata": {},
   "source": [
    "# Project information"
   ]
  },
  {
   "cell_type": "markdown",
   "metadata": {},
   "source": [
    "**Project title**: Trends in Maryland Crime\n",
    "\n",
    "**Name:** Richard Erickson\n",
    "\n",
    "**Email address associated with your DataCamp account:** raerickson@gmail.com\n",
    "\n",
    "**Project description**:\n",
    "\n",
    "- Is the violent crimes rate in Maryland increasing, decreasing, or staying the same? During this project, you will find out. First, wrangle the raw data supplied by State of Maryland. Second, analyze the data using a hierarchical regression to examine both the statewide crime rate and crime rate for each Maryland county. Third, plot the changes in crime rates for each county. \n",
    "- Like most data science work, this project requires both R and statistical skills. For R, this includes proficiency with the Tidyverse, including `ggplot2`. These skills are taught in DataCamp Courses such as [Introduction to the Tidyverse](https://www.datacamp.com/courses/introduction-to-the-tidyverse), [Data Manipulation in R with dplyr](https://www.datacamp.com/courses/dplyr-data-manipulation-r-tutorial), or [Data Visualization with ggplot2 (Part 1)](https://www.datacamp.com/courses/data-visualization-with-ggplot2-1). For statistics, this includes [Hierarchical and Mixed Effects Models](https://www.datacamp.com/courses/hierarchical-and-mixed-effects-models) and [Multiple and logistic regression](https://www.datacamp.com/courses/multiple-and-logistic-regression).\n",
    "- You will use the [crime statistics](http://goccp.maryland.gov/crime-statistics/) from the State of Maryland. The Maryland Statistical Analysis Center provides this and updates data. For the project, you will analyze data from 1975 to 2016."
   ]
  },
  {
   "cell_type": "markdown",
   "metadata": {},
   "source": [
    "# Project introduction\n",
    "\n",
    "***Note: nothing needs to be filled out in this cell. It is simply setting up the template cells below.***\n",
    "\n",
    "The final output of a DataCamp project looks like a blog post: pairs of text and code cells that tell a story about data. The text is written from the perspective of the data analyst and *not* from the perspective of an instructor on DataCamp. So, for this blog post intro, all you need to do is pretend like you're writing a blog post -- forget the part about instructors and students.\n",
    "\n",
    "Below you'll see the structure of a DataCamp project: a series of \"tasks\" where each task consists of a title, a **single** text cell, and a **single** code cell. There are 8-12 tasks in a project and each task can have up to 10 lines of code. What you need to do:\n",
    "1. Read through the template structure.\n",
    "2. As best you can, divide your project as it is currently visualized in your mind into tasks.\n",
    "3. Fill out the template structure for the first three tasks of your project.\n",
    "\n",
    "As you are completing each task, you may wish to consult the project notebook format in our [documentation](https://instructor-support.datacamp.com/projects/datacamp-projects-jupyter-notebook). Only the `@context` and `@solution` cells are relevant to this audition."
   ]
  },
  {
   "cell_type": "markdown",
   "metadata": {},
   "source": [
    "## 1. Importation and inspecting the data  (<= 55 chars) (sentence case)"
   ]
  },
  {
   "cell_type": "markdown",
   "metadata": {},
   "source": [
    "Crime rates change through time. Reasons and even trends can be difficult to detect. Data journalists at sites like [Freakeconmics](http://freakonomics.com/2005/05/15/abortion-and-crime-who-should-you-believe/) and [FiveThrityEight](https://fivethirtyeight.com/features/why-we-cant-be-sure-if-violent-crime-is-on-the-rise/) discuss possible reasons and trends. One tool for estimating trends is  regression analysis, which allows trend estimation in datasets such as those supplied by Maryland.\n",
    "\n",
    "![Map of Maryland counties and population. We will create a similar map showing trends in crime rates at the end of this project.](https://github.com/rerickson-usgs/projects-instructor-application-r/blob/master/img/countyPop.jpg)\n",
    "\n",    
    "Government statistics, such as crime rates, are often hierarchical or nested. For example, counties exist within most US states (Alaska has “burrows” and Louisiana has “parishes”). Counties and county-level governments vary even within the same state. For example, some counties might be densely populated and urban, other sparsely populated and rural. Hierarchical modeling allows this hierarchy to be captured and modeled.\n",
    "\n",
    Before running a regression analysis, data often needs to be cleaned to make it easily work with in R. This can include renaming columns and reformatting columns.\n",
    "\n"
   ]
  },
  {
   "cell_type": "code",
   "execution_count": null,
   "metadata": {},
   "outputs": [],
   "source": [
    "# Code and comments for the first task\n",
    "# It should consist of up to 10 lines of code (not including comments)\n",
    "# and take at most 10 seconds to execute on an average laptop."
   ]
  },
  {
   "cell_type": "markdown",
   "metadata": {},
   "source": [
    "## 2. Title of the second task (<= 55 chars)  (sentence case)"
   ]
  },
  {
   "cell_type": "markdown",
   "metadata": {},
   "source": [
    "Context / background / story / etc. This cell should at most have 800 characters.\n",
    "\n",
    "The most common error instructors make in **context cells** is referring to the student or the project. We want project notebooks to appear as a blog post or a data analysis. Bad: *\"In this task, you will...\"* Good: *\"Next, we will...\"*"
   ]
  },
  {
   "cell_type": "code",
   "execution_count": null,
   "metadata": {},
   "outputs": [],
   "source": [
    "# Code and comments for the second task\n",
    "# It should consist of up to 10 lines of code (not including comments)\n",
    "# and take at most 10 seconds to execute on an average laptop."
   ]
  },
  {
   "cell_type": "markdown",
   "metadata": {},
   "source": [
    "## 3. Title of the third task (<= 55 chars)  (sentence case)"
   ]
  },
  {
   "cell_type": "markdown",
   "metadata": {},
   "source": [
    "Context / background / story / etc. This cell should at most have 800 characters.\n",
    "\n",
    "The most common error instructors make in **context cells** is referring to the student or the project. We want project notebooks to appear as a blog post or a data analysis. Bad: *\"In this task, you will...\"* Good: *\"Next, we will...\"*"
   ]
  },
  {
   "cell_type": "code",
   "execution_count": null,
   "metadata": {},
   "outputs": [],
   "source": [
    "# Code and comments for the third task\n",
    "# It should consist of up to 10 lines of code (not including comments)\n",
    "# and take at most 10 seconds to execute on an average laptop."
   ]
  },
  {
   "cell_type": "markdown",
   "metadata": {},
   "source": [
    "*Stop here! Only the three first tasks. :)*"
   ]
  }
 ],
 "metadata": {
  "kernelspec": {
   "display_name": "R",
   "language": "R",
   "name": "ir"
  },
  "language_info": {
   "codemirror_mode": "r",
   "file_extension": ".r",
   "mimetype": "text/x-r-source",
   "name": "R",
   "pygments_lexer": "r",
   "version": "3.5.0"
  }
 },
 "nbformat": 4,
 "nbformat_minor": 2
}
