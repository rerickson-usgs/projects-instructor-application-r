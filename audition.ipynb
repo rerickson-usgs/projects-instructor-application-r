{
 "cells": [
  {
   "cell_type": "markdown",
   "metadata": {
    "collapsed": true
   },
   "source": [
    "Welcome to your DataCamp project audition! This notebook must be filled out and vetted before a contract can be signed and you can start creating your project.\n",
    "\n",
    "The first step is forking the repository in which this notebook lives. After that, there are two parts to be completed in this notebook:\n",
    "\n",
    "- **Project information**:  The title of the project, a project description, etc.\n",
    "\n",
    "- **Project introduction**: The three first text and code cells that will form the introduction of your project.\n",
    "\n",
    "When complete, please email the link to your forked repo to projects@datacamp.com with the email subject line _DataCamp project audition_. If you have any questions, please reach out to projects@datacamp.com."
   ]
  },
  {
   "cell_type": "markdown",
   "metadata": {},
   "source": [
    "# Project information"
   ]
  },
  {
   "cell_type": "markdown",
   "metadata": {},
   "source": [
    "**Project title**: Trends in Maryland Crime\n",
    "\n",
    "**Name:** Richard Erickson\n",
    "\n",
    "**Email address associated with your DataCamp account:** raerickson@gmail.com\n",
    "\n",
    "**Project description**: \n",
    "\n",
    "Is the violent crimes rate in Maryland increasing, decreasing, or staying the same? During this project, you will find out. First, wrangle the raw data supplied by State of Maryland. Second, analyze the data using a hierarchical regression to examine both the statewide crime rate and crime rate for each Maryland county. Third, plot the changes in crime rates for each county.\n",
    "\n",
    "Like many data science work, this project requires both R and statistical skills. For R, this includes proficiency with the Tidyverse, including `ggplot2`. These skills are taught in DataCamp Courses such as [Introduction to the Tidyverse](https://www.datacamp.com/courses/introduction-to-the-tidyverse), [Data Manipulation in R with dplyr](https://www.datacamp.com/courses/dplyr-data-manipulation-r-tutorial), or [Data Visualization with ggplot2 (Part 1)](https://www.datacamp.com/courses/data-visualization-with-ggplot2-1). For statistics, this includes [Hierarchical and Mixed Effects Models](https://www.datacamp.com/courses/hierarchical-and-mixed-effects-models) and [Multiple and logistic regression](https://www.datacamp.com/courses/multiple-and-logistic-regression)\n",
    "\n",
    "You will use the [crime statistics](http://goccp.maryland.gov/crime-statistics/) from the State of Maryland. The Maryland Statistical Analysis Center provides this and updates data. For the project, you will analyze data from 1975 to 2016.\n"
   ]
  },
  {
   "cell_type": "markdown",
   "metadata": {},
   "source": [
    "# Project introduction\n",
    "\n",
    "***Note: nothing needs to be filled out in this cell. It is simply setting up the template cells below.***\n",
    "\n",
    "The final output of a DataCamp project looks like a blog post: pairs of text and code cells that tell a story about data. The text is written from the perspective of the data analyst and *not* from the perspective of an instructor on DataCamp. So, for this blog post intro, all you need to do is pretend like you're writing a blog post -- forget the part about instructors and students.\n",
    "\n",
    "Below you'll see the structure of a DataCamp project: a series of \"tasks\" where each task consists of a title, a **single** text cell, and a **single** code cell. There are 8-12 tasks in a project and each task can have up to 10 lines of code. What you need to do:\n",
    "1. Read through the template structure.\n",
    "2. As best you can, divide your project as it is currently visualized in your mind into tasks.\n",
    "3. Fill out the template structure for the first three tasks of your project.\n",
    "\n",
    "As you are completing each task, you may wish to consult the project notebook format in our [documentation](https://instructor-support.datacamp.com/projects/datacamp-projects-jupyter-notebook). Only the `@context` and `@solution` cells are relevant to this audition."
   ]
  },
  {
   "cell_type": "markdown",
   "metadata": {},
   "source": [
    "## 1.  Importation and inspecting Maryland crime data"
   ]
  },
  {
   "cell_type": "markdown",
   "metadata": {},
   "source": [
    "Crime rates change through time. Reasons and even trends can be difficult to detect. Data journalists at sites like [Freakeconmics](http://freakonomics.com/2005/05/15/abortion-and-crime-who-should-you-believe/) and [FiveThrityEight](https://fivethirtyeight.com/features/why-we-cant-be-sure-if-violent-crime-is-on-the-rise/) discuss possible reasons and trends. One tool for estimating trends is  regression analysis, which allows trend estimation in datasets such as those supplied by Maryland.\n",
    " \n",
    "\n",
    "\n",
    "Government statistics, such as crime rates, are often hierarchical or nested. For example, counties exist within most US states (Alaska has “burrows” and Louisiana has “parishes”). Counties and county-level governments vary even within the same state. For example, some counties might be densely populated and urban, other sparsely populated and rural. Hierarchical modeling allows this hierarchy to be captured and modeled. This figure shows the counties and their populations in Maryland. You will create a similar figure for their crime trends at the end of this project.\n",
    "\n",
    "![Map of Maryland counties and population](./img/countyPop.jpg). \n",
    "\n",
    "However, before running a regression analysis, data often needs to be cleaned to make it easily work with in R. This can include renaming and reformatting columns so they are easier to work with in R. [Working with Dates and Times in R](https://www.datacamp.com/courses/working-with-dates-and-times-in-r) provide more details on working with dates and times in R. \n"
   ]
  },
  {
   "cell_type": "code",
   "execution_count": 4,
   "metadata": {},
   "outputs": [
    {
     "name": "stderr",
     "output_type": "stream",
     "text": [
      "also installing the dependencies ‘broom’, ‘dplyr’, ‘dbplyr’, ‘modelr’, ‘tidyr’\n",
      "\n",
      "Warning message in install.packages(\"tidyverse\", repos = \"http://cran.us.r-project.org\"):\n",
      "“installation of package ‘dplyr’ had non-zero exit status”Warning message in install.packages(\"tidyverse\", repos = \"http://cran.us.r-project.org\"):\n",
      "“installation of package ‘dbplyr’ had non-zero exit status”Warning message in install.packages(\"tidyverse\", repos = \"http://cran.us.r-project.org\"):\n",
      "“installation of package ‘tidyr’ had non-zero exit status”Warning message in install.packages(\"tidyverse\", repos = \"http://cran.us.r-project.org\"):\n",
      "“installation of package ‘broom’ had non-zero exit status”Warning message in install.packages(\"tidyverse\", repos = \"http://cran.us.r-project.org\"):\n",
      "“installation of package ‘modelr’ had non-zero exit status”Warning message in install.packages(\"tidyverse\", repos = \"http://cran.us.r-project.org\"):\n",
      "“installation of package ‘tidyverse’ had non-zero exit status”Updating HTML index of packages in '.Library'\n",
      "Making 'packages.html' ... done\n"
     ]
    },
    {
     "ename": "ERROR",
     "evalue": "Error in library(tidyverse): there is no package called ‘tidyverse’\n",
     "output_type": "error",
     "traceback": [
      "Error in library(tidyverse): there is no package called ‘tidyverse’\nTraceback:\n",
      "1. library(tidyverse)",
      "2. stop(txt, domain = NA)"
     ]
    }
   ],
   "source": [
    "# Load the tidyverse\n",
    "#install.packages('tidyverse', repos='http://cran.us.r-project.org')\n",
    "library(tidyverse)\n",
    "\n",
    "# Read in the crime data\n",
    "crime_raw <- read_csv(\"Violent_Crime___Property_Crime_by_County__1975_to_Present.csv\")\n",
    "\n",
    "# select columns JURISDICTION, YEAR, POPULATION, and VIOLENT CRIME RATE PER 100,000 PEOPLE. \n",
    "# Rename the last to be crime_rate \n",
    "crime_use <- crime_raw %>% \n",
    "    select(JURISDICTION, YEAR, POPULATION, crime_rate = `VIOLENT CRIME RATE PER 100,000 PEOPLE`) %>%\n",
    "\n",
    "# mutate YEAR to be a date (with mdy_hms()) and then extract the year (with year())\n",
    "crime_use <- crime_use %>% \n",
    "    mutate(YEAR = year(mdy_hms(YEAR)))\n",
    "\n",
    "# examine the raw data for each county \n",
    "crime_use %>% group_by(JURISDICTION) %>% summarize(n(), mean())\n"
   ]
  },
  {
   "cell_type": "markdown",
   "metadata": {},
   "source": [
    "## 2. Plot the raw data with trend lines"
   ]
  },
  {
   "cell_type": "markdown",
   "metadata": {},
   "source": [
    "We have now loaded our data into R. Before running a regression or building a model, I like to visualize the data. First, we plot the raw data and change the theme. Next, we add a trend line for each county with `stat_smooth()` using a linear regrsesion (`method = 'lm'`). We also set disable the uncertainty around the regression lines by setting `se = FALSE`. This is done to make the plot easier to read.  "
   ]
  },
  {
   "cell_type": "code",
   "execution_count": 6,
   "metadata": {},
   "outputs": [],
   "source": [
    "# plot the data using ggplot2\n",
    "raw_plot <- \n",
    "    ggplot(crime_use, aes(x = YEAR, y = crime_rate,\n",
    "                          group = county)) + \n",
    "    geom_line() +\n",
    "    theme_minimal()\n",
    "\n",
    "# add on a regression line for each county\n",
    "raw_plot + stat_smooth(method = 'lm', se = FALSE) +"
   ]
  },
  {
   "cell_type": "markdown",
   "metadata": {},
   "source": [
    "## 3. Build and run lmer()"
   ]
  },
  {
   "cell_type": "markdown",
   "metadata": {},
   "source": [
    "Now, we can use a linear mixed-effects regression (`lmer()`). `lmer()` uses similar syntax as `lm()`, but also requires a random-effect. For example, `y` predicted by fixed-effect slope `x` and random-effect intercept `group` would be `y ~ x + (1|group)`. `x` can also be included as a random-effect slope: `y ~ x + (x|group)`. [Hierarchical and Mixed Effect Models](https://www.datacamp.com/courses/hierarchical-and-mixed-effects-models) coves this in greater details.\n",
    "\n",
    "In our case, we are interested in if `YEAR` predicts the `crime_rate` as both a fixed- and random-effect slope across counties (`JURISDICTION`). After fitting the model, we examine the outputs with `summary()` and the slopes for each county with `ranef()`.\n",
    "\n",
    "When examining the the estimate slope for year, even if we have a statistically significant slope, does it seem to be meaningful given the magnitude of the data?"
   ]
  },
  {
   "cell_type": "code",
   "execution_count": null,
   "metadata": {},
   "outputs": [],
   "source": [
    "# Load lmer package\n",
    "# library(lmerTest)\n",
    "# Run a lmer() on data\n",
    "lmer(crime_rate ~ YEAR + (YEAR|county) - 1, both_data)\n",
    "\n",
    "# Mutate data to create a second year column \n",
    "both_data <-\n",
    "  both_data %>%\n",
    "  mutate(YEAR2 = YEAR - min(YEAR))\n",
    "\n",
    "# Run a lmer() on mutuated data \n",
    "lmer_out <- lmer(crime_rate ~ YEAR2 + (YEAR2|county) - 1, both_data)\n",
    "\n",
    "# Examine the model's summary\n",
    "summary(lmer_out)\n",
    "\n",
    "# Examine the model's \n",
    "fixef(lmer_out) "
   ]
  },
  {
   "cell_type": "markdown",
   "metadata": {},
   "source": [
    "*Stop here! Only the three first tasks. :)*"
   ]
  }
 ],
 "metadata": {
  "kernelspec": {
   "display_name": "R",
   "language": "R",
   "name": "ir"
  },
  "language_info": {
   "codemirror_mode": "r",
   "file_extension": ".r",
   "mimetype": "text/x-r-source",
   "name": "R",
   "pygments_lexer": "r",
   "version": "3.5.1"
  }
 },
 "nbformat": 4,
 "nbformat_minor": 2
}
